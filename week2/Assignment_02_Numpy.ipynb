{
 "cells": [
  {
   "cell_type": "markdown",
   "metadata": {},
   "source": [
    "# Assignment: Numpy"
   ]
  },
  {
   "cell_type": "markdown",
   "metadata": {},
   "source": [
    "Perform the follwing tasks:\n"
   ]
  },
  {
   "cell_type": "code",
   "execution_count": 4,
   "metadata": {},
   "outputs": [],
   "source": [
    "#1: import the numpy library\n",
    "import numpy as np\n",
    "import matplotlib\n",
    "import matplotlib.pyplot as plt\n",
    "\n"
   ]
  },
  {
   "cell_type": "code",
   "execution_count": 15,
   "metadata": {},
   "outputs": [
    {
     "data": {
      "text/plain": [
       "array([[ 0.21091837, -0.35417153, -0.11339494, -0.08108652, -0.12545871,\n",
       "         1.60754878, -0.17618853, -1.00482544, -0.6336983 , -0.28519012],\n",
       "       [ 0.41204873, -0.44427078,  0.12027233,  1.09003175,  0.8566619 ,\n",
       "         0.07016129,  0.4028315 ,  0.10516525,  0.61643595,  2.36858617],\n",
       "       [-1.0876963 ,  1.21605176, -1.79307268, -0.89695061, -0.18229911,\n",
       "         0.17207912, -1.265178  ,  0.48454379, -1.12620161, -0.55120055],\n",
       "       [-1.52896524, -1.39442109,  0.41493065,  1.31087556, -0.26997892,\n",
       "         1.39724142, -0.51619009, -1.07263587, -0.68112846,  0.47328123],\n",
       "       [-0.3663636 , -0.63692571, -0.54257706, -0.26015832,  0.05462354,\n",
       "        -0.69795548, -0.35459172, -0.4912494 , -1.51910633,  0.08071456],\n",
       "       [-0.92767874,  0.80095497,  0.17359111, -0.32449854,  0.18425731,\n",
       "         1.0641824 , -1.29522489,  0.2244961 , -0.02110044,  1.66485977],\n",
       "       [-0.62571475, -1.29717429, -0.32413348,  2.9217513 , -0.37538759,\n",
       "         2.44886352,  0.72067934,  0.19653802,  1.83917468,  1.2465027 ],\n",
       "       [ 0.15365951,  0.4594122 ,  0.82644321, -0.66819891,  1.23423322,\n",
       "         0.04150762, -2.38437166,  1.48101074, -0.76291517, -0.80110252],\n",
       "       [ 1.18758042, -1.3435867 ,  0.80467871,  2.03445716,  0.50087016,\n",
       "         0.57235255,  0.63280129,  0.21959477, -0.56977932, -0.94090292],\n",
       "       [ 1.35846483, -0.92026132,  0.10257043, -0.23926943, -0.78778797,\n",
       "        -1.01271406,  0.59803744, -0.33330638, -0.85750273, -1.59844456]])"
      ]
     },
     "execution_count": 15,
     "metadata": {},
     "output_type": "execute_result"
    }
   ],
   "source": [
    "#2: create a random 10x10 array named A\n",
    "\n",
    "A = np.random.randn(10,10)\n",
    "A\n",
    "#print(\"Original Array:\")\n",
    "#print(x) \n",
    "#xmin, xmax = x.min(), x.max()\n",
    "#print(\"Minimum and Maximum Values:\")\n",
    "#print(xmin, xmax)\n"
   ]
  },
  {
   "cell_type": "code",
   "execution_count": 17,
   "metadata": {},
   "outputs": [
    {
     "data": {
      "text/plain": [
       "array([[-0.35417153, -0.08108652,  1.60754878, -1.00482544, -0.28519012],\n",
       "       [-0.44427078,  1.09003175,  0.07016129,  0.10516525,  2.36858617],\n",
       "       [ 1.21605176, -0.89695061,  0.17207912,  0.48454379, -0.55120055],\n",
       "       [-1.39442109,  1.31087556,  1.39724142, -1.07263587,  0.47328123],\n",
       "       [-0.63692571, -0.26015832, -0.69795548, -0.4912494 ,  0.08071456],\n",
       "       [ 0.80095497, -0.32449854,  1.0641824 ,  0.2244961 ,  1.66485977],\n",
       "       [-1.29717429,  2.9217513 ,  2.44886352,  0.19653802,  1.2465027 ],\n",
       "       [ 0.4594122 , -0.66819891,  0.04150762,  1.48101074, -0.80110252],\n",
       "       [-1.3435867 ,  2.03445716,  0.57235255,  0.21959477, -0.94090292],\n",
       "       [-0.92026132, -0.23926943, -1.01271406, -0.33330638, -1.59844456]])"
      ]
     },
     "execution_count": 17,
     "metadata": {},
     "output_type": "execute_result"
    }
   ],
   "source": [
    "#3: return only the odd rows of A\n",
    "A[:,1::2]"
   ]
  },
  {
   "cell_type": "code",
   "execution_count": 29,
   "metadata": {},
   "outputs": [
    {
     "data": {
      "text/plain": [
       "array([[ 4.31293394, -1.09523526,  0.52234344,  3.76345038,  0.59780948,\n",
       "         0.75609073,  2.26561716, -0.61408719,  1.62463294,  0.31987974],\n",
       "       [-1.09523526,  8.47211423, -4.78439075,  1.71543827, -1.15876099,\n",
       "         2.59379395,  7.711688  , -2.88203302,  1.56805809, -4.13459035],\n",
       "       [ 0.52234344, -4.78439075, 10.15194952, -1.02322845,  2.57704547,\n",
       "         2.9659267 , -6.02139492,  4.32617934, -5.71996146, -1.66798071],\n",
       "       [ 3.76345038,  1.71543827, -1.02322845, 10.30281028,  1.675049  ,\n",
       "         2.61544391,  8.73847388, -1.90108367,  3.10364304, -2.39085534],\n",
       "       [ 0.59780948, -1.15876099,  2.57704547,  1.675049  ,  4.07335459,\n",
       "        -0.39730912, -4.30389756,  0.62719085, -0.45997088,  1.88413666],\n",
       "       [ 0.75609073,  2.59379395,  2.9659267 ,  2.61544391, -0.39730912,\n",
       "         7.30419412,  2.22110791,  2.9604559 , -4.32173298, -6.6172384 ],\n",
       "       [ 2.26561716,  7.711688  , -6.02139492,  8.73847388, -4.30389756,\n",
       "         2.22110791, 22.34806004, -7.10294619,  6.17517072, -5.77695406],\n",
       "       [-0.61408719, -2.88203302,  4.32617934, -1.90108367,  0.62719085,\n",
       "         2.9604559 , -7.10294619, 11.99164932, -0.48238856, -0.96859351],\n",
       "       [ 1.62463294,  1.56805809, -5.71996146,  3.10364304, -0.45997088,\n",
       "        -4.32173298,  6.17517072, -0.48238856, 10.23916071,  3.76909595],\n",
       "       [ 0.31987974, -4.13459035, -1.66798071, -2.39085534,  1.88413666,\n",
       "        -6.6172384 , -5.77695406, -0.96859351,  3.76909595,  8.16535564]])"
      ]
     },
     "execution_count": 29,
     "metadata": {},
     "output_type": "execute_result"
    }
   ],
   "source": [
    "#4: perform a matrix multiplication of A with it's transposed\n",
    "A.dot(A.transpose())"
   ]
  },
  {
   "cell_type": "code",
   "execution_count": 31,
   "metadata": {},
   "outputs": [
    {
     "data": {
      "text/plain": [
       "array([[ 0.22313674,  1.07070049,  0.62689104,  0.50798814, -1.27115982,\n",
       "        -0.26871011, -0.33775328,  0.13514018, -0.18415085,  0.91421334],\n",
       "       [-0.22124085,  1.05254559,  1.12095239,  1.06092245, -2.13253269,\n",
       "        -0.2030069 , -0.93729838, -0.30084998,  0.23740985,  0.48770435],\n",
       "       [-0.21999074, -0.58455555, -0.53917974, -0.14947678,  0.26669795,\n",
       "         0.63954361, -0.08272878, -0.13559246,  0.34899074, -0.20768137],\n",
       "       [-0.38884303,  1.66586071,  1.43420235,  1.67647352, -2.55647006,\n",
       "        -0.72721538, -0.86294162, -0.04408344,  0.03309386,  0.98283131],\n",
       "       [ 0.37501175,  0.0337424 , -0.20906516, -0.20949791,  0.45369957,\n",
       "        -0.7414849 , -0.05034843,  0.22832082,  0.01843821, -0.92077456],\n",
       "       [ 0.40924731, -1.09396037, -0.73177426, -1.05327158,  1.38067234,\n",
       "         0.68556507,  0.56718534, -0.08836929,  0.32170079, -0.67257898],\n",
       "       [ 0.04674369, -1.9954054 , -1.38659661, -1.85615373,  2.6900229 ,\n",
       "         1.02781925,  0.72569626, -0.52134171,  0.7782944 , -1.46115822],\n",
       "       [-0.24658225, -2.15585435, -1.41718813, -2.11083638,  3.01685496,\n",
       "         1.46535459,  1.17907424, -0.10781742,  0.65155508, -1.01831017],\n",
       "       [ 0.07549619,  0.8865314 ,  0.42338337,  0.77324307, -1.30850951,\n",
       "        -0.97891199, -0.15334965,  0.34799718, -0.72208657,  0.4285427 ],\n",
       "       [-0.05460309, -0.07903854, -0.24560034, -0.33817375,  0.52820375,\n",
       "         0.57363165,  0.14982638, -0.12984241,  0.05404807,  0.02581165]])"
      ]
     },
     "execution_count": 31,
     "metadata": {},
     "output_type": "execute_result"
    }
   ],
   "source": [
    "#5: compute the matrix inverse of A\n",
    "I = np.linalg.inv(A)\n",
    "I\n"
   ]
  },
  {
   "cell_type": "code",
   "execution_count": 32,
   "metadata": {},
   "outputs": [
    {
     "data": {
      "text/plain": [
       "array([[0.68817131, 0.89022126, 0.88542989, 0.02473673, 0.86974503,\n",
       "        0.19125411, 0.76113955, 0.18861702, 0.23873704, 0.93314637],\n",
       "       [0.92466666, 0.86747044, 0.06487413, 0.78660821, 0.06878582,\n",
       "        0.03150137, 0.04014325, 0.16052459, 0.03180159, 0.9611361 ],\n",
       "       [0.13741734, 0.19155485, 0.78652057, 0.08809321, 0.02654362,\n",
       "        0.8772755 , 0.02554014, 0.87640154, 0.14586877, 0.2419493 ],\n",
       "       [0.90986467, 0.00621442, 0.54916119, 0.7442496 , 0.95612226,\n",
       "        0.63237832, 0.88574332, 0.90761884, 0.73996124, 0.9628641 ],\n",
       "       [0.03783549, 0.5267336 , 0.12733356, 0.0490872 , 0.05737806,\n",
       "        0.94764872, 0.10022858, 0.96075562, 0.23948245, 0.77700304],\n",
       "       [0.67302121, 0.1145373 , 0.03360815, 0.01941619, 0.14998426,\n",
       "        0.17470529, 0.03780862, 0.68076234, 0.70299341, 0.02750424],\n",
       "       [0.80210889, 0.61622318, 0.81873676, 0.92390371, 0.81559745,\n",
       "        0.93106454, 0.6839994 , 0.75140629, 0.79213808, 0.13232816],\n",
       "       [0.79987365, 0.20447602, 0.00440526, 0.20615016, 0.03628201,\n",
       "        0.98796564, 0.22143929, 0.2368279 , 0.16413698, 0.10990532],\n",
       "       [0.95674729, 0.19357239, 0.99300909, 0.52035976, 0.50639233,\n",
       "        0.18521714, 0.95612686, 0.08369289, 0.12078631, 0.19170751],\n",
       "       [0.24615844, 0.93677134, 0.66271945, 0.79400846, 0.11360664,\n",
       "        0.63183286, 0.20054419, 0.71956996, 0.72021186, 0.78649151]])"
      ]
     },
     "execution_count": 32,
     "metadata": {},
     "output_type": "execute_result"
    }
   ],
   "source": [
    "#6: divide all entries of A which are lager than 0.5 by 2 (hint: use where() )\n",
    "np.where((x > 0.5), x, (x/2))"
   ]
  },
  {
   "cell_type": "code",
   "execution_count": 33,
   "metadata": {},
   "outputs": [],
   "source": [
    "#7: compute the singular value decomposition of A\n",
    "#7.1: plot the singular values\n",
    "#7.2: reconstruct A' by using only the top 5 singular values\n",
    "\n",
    "U, S, V = np.linalg.svd(x)"
   ]
  },
  {
   "cell_type": "code",
   "execution_count": 11,
   "metadata": {},
   "outputs": [
    {
     "data": {
      "text/plain": [
       "array([[0.57451168, 0.70459889, 1.02269751, 0.28721203, 0.77083391,\n",
       "        0.32322776, 0.75319564, 0.45482147, 0.41870257, 1.01046821],\n",
       "       [0.87231804, 0.91187903, 0.07754836, 0.78839821, 0.11658117,\n",
       "        0.06507033, 0.15219854, 0.27319349, 0.1462267 , 0.9613087 ],\n",
       "       [0.143797  , 0.5674788 , 0.61215358, 0.15467558, 0.11168703,\n",
       "        0.90113788, 0.19651636, 0.77041241, 0.44959514, 0.43398562],\n",
       "       [0.99630171, 0.17734663, 0.48488429, 0.57758135, 1.02629513,\n",
       "        0.59058657, 0.84973314, 0.89646536, 0.85356933, 0.8557743 ],\n",
       "       [0.11633503, 0.52170559, 0.34460385, 0.11136757, 0.13947316,\n",
       "        0.8635604 , 0.05806551, 0.99915804, 0.5490754 , 0.73045778],\n",
       "       [0.4330182 , 0.04236111, 0.0324537 , 0.32164779, 0.28533112,\n",
       "        0.5328708 , 0.22838009, 0.60936323, 0.4779418 , 0.24046022],\n",
       "       [0.97952527, 0.51813499, 0.82091981, 0.74700928, 0.62037185,\n",
       "        0.99255555, 0.80485918, 0.7471086 , 0.70881216, 0.3558833 ],\n",
       "       [0.68342483, 0.37900971, 0.17968459, 0.64126124, 0.1105166 ,\n",
       "        0.77594991, 0.25751221, 0.59625075, 0.45851753, 0.13676494],\n",
       "       [0.8551779 , 0.49813824, 0.95001798, 0.58548682, 0.66626566,\n",
       "        0.36132467, 0.87555852, 0.1214951 , 0.32948966, 0.31400358],\n",
       "       [0.68903312, 0.90795344, 0.63111409, 0.60258189, 0.26905377,\n",
       "        0.76717546, 0.37846611, 0.73356515, 0.47714972, 0.81720785]])"
      ]
     },
     "execution_count": 11,
     "metadata": {},
     "output_type": "execute_result"
    }
   ],
   "source": [
    "#S = np.zeros((x.shape[0], x.shape[1]))\n",
    "#S[:x.shape[0], :x.shape[0]] = np.diag(s)\n",
    "#n_component = 2\n",
    "#S = S[:, :n_component]\n",
    "#VT = V[:n_component, :]\n",
    "#A = U.dot(Sigma.dot(VT))\n",
    "#print(A)\n",
    "\n",
    "np.dot(U[:,:5]*S[:5],V[:5,:])"
   ]
  },
  {
   "cell_type": "code",
   "execution_count": 12,
   "metadata": {},
   "outputs": [
    {
     "data": {
      "text/plain": [
       "[<matplotlib.lines.Line2D at 0x7f1f3c01c430>]"
      ]
     },
     "execution_count": 12,
     "metadata": {},
     "output_type": "execute_result"
    },
    {
     "data": {
      "image/png": "[encoded data removed]",
      "text/plain": [
       "<Figure size 432x288 with 1 Axes>"
      ]
     },
     "metadata": {
      "needs_background": "light"
     },
     "output_type": "display_data"
    }
   ],
   "source": [
    "plt.plot(S)"
   ]
  },
  {
   "cell_type": "code",
   "execution_count": null,
   "metadata": {},
   "outputs": [],
   "source": []
  }
 ],
 "metadata": {
  "kernelspec": {
   "display_name": "Python 3",
   "language": "python",
   "name": "python3"
  },
  "language_info": {
   "codemirror_mode": {
    "name": "ipython",
    "version": 3
   },
   "file_extension": ".py",
   "mimetype": "text/x-python",
   "name": "python",
   "nbconvert_exporter": "python",
   "pygments_lexer": "ipython3",
   "version": "3.8.3"
  }
 },
 "nbformat": 4,
 "nbformat_minor": 4
}
